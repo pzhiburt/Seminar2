{
 "cells": [
  {
   "cell_type": "code",
   "execution_count": 1,
   "metadata": {},
   "outputs": [
    {
     "name": "stdout",
     "output_type": "stream",
     "text": [
      "Hello!\n",
      "Hello!\n",
      "Hello!\n",
      "Hello!\n"
     ]
    }
   ],
   "source": [
    "print(\"Hello!\", \"Hello!\", sep=\"\\n\"); print(\"Hello!\", end=\"\\n\"); print(\"Hello!\")"
   ]
  },
  {
   "cell_type": "code",
   "execution_count": 2,
   "metadata": {},
   "outputs": [
    {
     "name": "stdout",
     "output_type": "stream",
     "text": [
      "Hello World!-*-*-*-35-*-*-*--10\n"
     ]
    }
   ],
   "source": [
    "print(\"Hello World!\", 45-10, -10, sep=\"-*-*-*-\")"
   ]
  },
  {
   "cell_type": "code",
   "execution_count": 3,
   "metadata": {},
   "outputs": [
    {
     "name": "stdout",
     "output_type": "stream",
     "text": [
      "Максимум ряда переменных = 9\n"
     ]
    }
   ],
   "source": [
    "Test_10=max(1,-2,3,4,5,6,7,8,9,0); print(\"Максимум ряда переменных\", Test_10,sep=\" = \")"
   ]
  },
  {
   "cell_type": "code",
   "execution_count": 4,
   "metadata": {},
   "outputs": [],
   "source": [
    "x=300; y=\"Жираф\"; z=\"кг.\""
   ]
  },
  {
   "cell_type": "code",
   "execution_count": 5,
   "metadata": {},
   "outputs": [
    {
     "name": "stdout",
     "output_type": "stream",
     "text": [
      "Жираф весит 300 кг.---9999---Hello!!!\n"
     ]
    }
   ],
   "source": [
    "print(\"{} весит {} {}\".format(y,x,z), 9999, \"Hello!!!\", sep=\"---\")"
   ]
  },
  {
   "cell_type": "code",
   "execution_count": 6,
   "metadata": {},
   "outputs": [
    {
     "name": "stdout",
     "output_type": "stream",
     "text": [
      "10\n",
      "1000\n"
     ]
    }
   ],
   "source": [
    "x=10; y=1000; print(x); print(y); x_1=\"Помидор\"; x_2=\"Beaujolais nouveau\""
   ]
  },
  {
   "cell_type": "code",
   "execution_count": 9,
   "metadata": {},
   "outputs": [
    {
     "name": "stdout",
     "output_type": "stream",
     "text": [
      "Помидор..................10.00\n",
      "Beaujolais nouveau.....1000.00\n"
     ]
    }
   ],
   "source": [
    "print(\"{:.<20s}{:.>10.2f}\".format(x_1,x), \"{:.<20s}{:.>10.2f}\".format(x_2,y), sep=\"\\n\")"
   ]
  },
  {
   "cell_type": "code",
   "execution_count": null,
   "metadata": {},
   "outputs": [],
   "source": []
  }
 ],
 "metadata": {
  "kernelspec": {
   "display_name": "Python 3",
   "language": "python",
   "name": "python3"
  },
  "language_info": {
   "codemirror_mode": {
    "name": "ipython",
    "version": 3
   },
   "file_extension": ".py",
   "mimetype": "text/x-python",
   "name": "python",
   "nbconvert_exporter": "python",
   "pygments_lexer": "ipython3",
   "version": "3.6.11"
  }
 },
 "nbformat": 4,
 "nbformat_minor": 4
}

